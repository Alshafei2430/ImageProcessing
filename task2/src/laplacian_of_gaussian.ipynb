{
 "cells": [
  {
   "cell_type": "code",
   "execution_count": 3,
   "metadata": {},
   "outputs": [],
   "source": [
    "import math\n",
    "\n",
    "import numpy as np\n",
    "kernal_size = 5\n",
    "gaussian_kernal = np.zeros((kernal_size, kernal_size))"
   ]
  },
  {
   "cell_type": "code",
   "execution_count": 4,
   "metadata": {},
   "outputs": [
    {
     "data": {
      "text/plain": [
       "array([[0.00291502, 0.01306423, 0.02153928, 0.01306423, 0.00291502],\n",
       "       [0.01306423, 0.05854983, 0.09653235, 0.05854983, 0.01306423],\n",
       "       [0.02153928, 0.09653235, 0.15915494, 0.09653235, 0.02153928],\n",
       "       [0.01306423, 0.05854983, 0.09653235, 0.05854983, 0.01306423],\n",
       "       [0.00291502, 0.01306423, 0.02153928, 0.01306423, 0.00291502]])"
      ]
     },
     "execution_count": 4,
     "metadata": {},
     "output_type": "execute_result"
    }
   ],
   "source": [
    "center = kernal_size / 2\n",
    "left =  - math.floor(center)\n",
    "right = math.ceil(center)\n",
    "coordinates_list = [*range(left, right)]\n",
    "coordinates_list_copy_reverse = coordinates_list.copy()\n",
    "coordinates_list_copy_reverse.reverse()\n",
    "\n",
    "sigma = 1\n",
    "\n",
    "coordinates_list.reverse()\n",
    "for i, y in enumerate(coordinates_list_copy_reverse):\n",
    "    for j, x in enumerate(coordinates_list):\n",
    "        sum_x2_y2 = np.square([x, y]).sum()\n",
    "        exp_denominator = 2 * np.square(sigma)\n",
    "        gaussian_kernal[i, j] = np.exp(-(sum_x2_y2 / (exp_denominator))) / (exp_denominator * np.pi)\n",
    "\n",
    "gaussian_kernal\n",
    "        "
   ]
  },
  {
   "cell_type": "code",
   "execution_count": 5,
   "metadata": {},
   "outputs": [
    {
     "data": {
      "text/plain": [
       "True"
      ]
     },
     "execution_count": 5,
     "metadata": {},
     "output_type": "execute_result"
    }
   ],
   "source": [
    "from convolve import convolve2D_single_Kernal\n",
    "from convolve import  processImage\n",
    "\n",
    "import cv2\n",
    "\n",
    "img = processImage('../Bikesgray.jpg')\n",
    "\n",
    "image_qaussian_smoothed = convolve2D_single_Kernal(img, gaussian_kernal)\n",
    "\n",
    "cv2.imwrite('quassian_bikesgray.jpg', image_qaussian_smoothed)"
   ]
  },
  {
   "cell_type": "code",
   "execution_count": 6,
   "metadata": {},
   "outputs": [
    {
     "data": {
      "text/plain": [
       "array([[0.01500615, 0.08833553, 0.01500615],\n",
       "       [0.08833553, 0.25049036, 0.08833553],\n",
       "       [0.01500615, 0.08833553, 0.01500615]])"
      ]
     },
     "execution_count": 6,
     "metadata": {},
     "output_type": "execute_result"
    }
   ],
   "source": [
    "laplacian_kernal = np.array([[0, -1, 0], [-1, 4, -1], [0, -1, 0]])\n",
    "\n",
    "laplacian_of_gaussian_kernal = convolve2D_single_Kernal(gaussian_kernal, laplacian_kernal)\n",
    "laplacian_of_gaussian_kernal\n"
   ]
  },
  {
   "cell_type": "code",
   "execution_count": 12,
   "metadata": {},
   "outputs": [],
   "source": [
    "img = processImage('../Bikesgray.jpg')"
   ]
  },
  {
   "cell_type": "code",
   "execution_count": 13,
   "metadata": {},
   "outputs": [
    {
     "data": {
      "text/plain": [
       "True"
      ]
     },
     "execution_count": 13,
     "metadata": {},
     "output_type": "execute_result"
    }
   ],
   "source": [
    "image_laplacian_of_guassian = convolve2D_single_Kernal(img, laplacian_of_gaussian_kernal)\n",
    "\n",
    "cv2.imwrite('laplacian_of_quassian_bikesgray.jpg', image_laplacian_of_guassian)"
   ]
  },
  {
   "cell_type": "code",
   "execution_count": 96,
   "metadata": {},
   "outputs": [
    {
     "data": {
      "text/plain": [
       "[-1, 0, 1]"
      ]
     },
     "execution_count": 96,
     "metadata": {},
     "output_type": "execute_result"
    }
   ],
   "source": [
    "test1 = [*range(-1, 2)] \n",
    "test = test1.copy()\n",
    "test.reverse()\n",
    "test1"
   ]
  },
  {
   "cell_type": "code",
   "execution_count": 15,
   "metadata": {},
   "outputs": [
    {
     "data": {
      "text/plain": [
       "5"
      ]
     },
     "execution_count": 15,
     "metadata": {},
     "output_type": "execute_result"
    }
   ],
   "source": [
    "np.square([1, 2]).sum()"
   ]
  },
  {
   "cell_type": "code",
   "execution_count": 10,
   "metadata": {},
   "outputs": [
    {
     "data": {
      "text/plain": [
       "54.598150033144236"
      ]
     },
     "execution_count": 10,
     "metadata": {},
     "output_type": "execute_result"
    }
   ],
   "source": [
    "np.exp(4)"
   ]
  },
  {
   "cell_type": "code",
   "execution_count": 49,
   "metadata": {},
   "outputs": [
    {
     "data": {
      "text/plain": [
       "5.883205784011985"
      ]
     },
     "execution_count": 49,
     "metadata": {},
     "output_type": "execute_result"
    }
   ],
   "source": [
    "np.exp(-(4 / (2 * np.square(1)))) / (2 * 3.14 * np.square(1)) * 273"
   ]
  },
  {
   "cell_type": "code",
   "execution_count": 56,
   "metadata": {},
   "outputs": [
    {
     "data": {
      "text/plain": [
       "array([[1, 2, 3],\n",
       "       [4, 5, 6],\n",
       "       [7, 8, 9]])"
      ]
     },
     "execution_count": 56,
     "metadata": {},
     "output_type": "execute_result"
    }
   ],
   "source": [
    "test = np.array([1,2,3,4,5,6 ,7, 8, 9])\n",
    "test.reshape(3,3)\n"
   ]
  },
  {
   "cell_type": "code",
   "execution_count": null,
   "metadata": {},
   "outputs": [],
   "source": [
    "w = math.ceil(float(3)*float(1.5))\n",
    "\n",
    "# If the dimension is an even number, make it uneven\n",
    "if(w%2 == 0):\n",
    "    # print (\"even number detected, incrementing\")\n",
    "    w = w + 1\n",
    "\n",
    "# Now make the mask\n",
    "l_o_g_mask = []\n",
    "\n",
    "w_range = int(math.floor(w/2))\n",
    "# print \"Going from \" + str(-w_range) + \" to \" + str(w_range)\n",
    "for i in range(-w_range, w_range):\n",
    "    for j in range(-w_range, w_range):\n",
    "        l_o_g_mask.append(l_o_g(i,j,sigma))\n",
    "l_o_g_mask = np.array(l_o_g_mask)\n",
    "l_o_g_mask = l_o_g_mask.reshape(w,w)"
   ]
  },
  {
   "cell_type": "code",
   "execution_count": 61,
   "metadata": {},
   "outputs": [
    {
     "data": {
      "text/plain": [
       "2"
      ]
     },
     "execution_count": 61,
     "metadata": {},
     "output_type": "execute_result"
    }
   ],
   "source": [
    "w = math.ceil(float(3)*float(1.5))\n",
    "w_range = int(math.floor(w/2))\n",
    "w_range\n"
   ]
  },
  {
   "cell_type": "code",
   "execution_count": 70,
   "metadata": {},
   "outputs": [
    {
     "name": "stdout",
     "output_type": "stream",
     "text": [
      "-1\n",
      "0\n"
     ]
    }
   ],
   "source": [
    "for i in range(-1, 1):\n",
    "    print(i)"
   ]
  },
  {
   "cell_type": "code",
   "execution_count": 69,
   "metadata": {},
   "outputs": [
    {
     "name": "stdout",
     "output_type": "stream",
     "text": [
      "1\n",
      "0\n"
     ]
    }
   ],
   "source": [
    "for i in range(1, -1, -1):\n",
    "    print(i)"
   ]
  },
  {
   "cell_type": "code",
   "execution_count": 71,
   "metadata": {},
   "outputs": [
    {
     "data": {
      "text/plain": [
       "3"
      ]
     },
     "execution_count": 71,
     "metadata": {},
     "output_type": "execute_result"
    }
   ],
   "source": [
    "math.ceil(2.5)"
   ]
  },
  {
   "cell_type": "code",
   "execution_count": 72,
   "metadata": {},
   "outputs": [
    {
     "data": {
      "text/plain": [
       "2"
      ]
     },
     "execution_count": 72,
     "metadata": {},
     "output_type": "execute_result"
    }
   ],
   "source": [
    "math.floor(2.5)"
   ]
  }
 ],
 "metadata": {
  "interpreter": {
   "hash": "304db75e9ca8a0a1d93cf838a2ff5897596f4187479e0cbadfeb76277b9159f8"
  },
  "kernelspec": {
   "display_name": "Python 3.8.10 ('venv': venv)",
   "language": "python",
   "name": "python3"
  },
  "language_info": {
   "codemirror_mode": {
    "name": "ipython",
    "version": 3
   },
   "file_extension": ".py",
   "mimetype": "text/x-python",
   "name": "python",
   "nbconvert_exporter": "python",
   "pygments_lexer": "ipython3",
   "version": "3.8.10"
  },
  "orig_nbformat": 4
 },
 "nbformat": 4,
 "nbformat_minor": 2
}
