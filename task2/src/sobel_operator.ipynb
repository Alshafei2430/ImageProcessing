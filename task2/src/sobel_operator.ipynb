{
 "cells": [
  {
   "cell_type": "code",
   "execution_count": 6,
   "metadata": {},
   "outputs": [],
   "source": [
    "import cv2\n",
    "import numpy as np"
   ]
  },
  {
   "cell_type": "code",
   "execution_count": 7,
   "metadata": {},
   "outputs": [],
   "source": [
    "# Grayscale Image\n",
    "def processImage(image):\n",
    "    image = cv2.imread(image)\n",
    "    image = cv2.cvtColor(src=image, code=cv2.COLOR_BGR2GRAY)\n",
    "    return image\n"
   ]
  },
  {
   "cell_type": "code",
   "execution_count": 4,
   "metadata": {},
   "outputs": [],
   "source": [
    "def convolve2D(image, kernel, padding=0, strides=1):\n",
    "    # Cross Correlation\n",
    "    kernel = np.flipud(np.fliplr(kernel))\n",
    "\n",
    "    # Gather Shapes of Kernel + Image + Padding\n",
    "    xKernShape = kernel.shape[0]\n",
    "    yKernShape = kernel.shape[1]\n",
    "    xImgShape = image.shape[0]\n",
    "    yImgShape = image.shape[0]\n",
    "\n",
    "    # Shape of Output Convolution\n",
    "    xOutput = int(((xImgShape - xKernShape + 2 * padding) / strides) + 1)\n",
    "    yOutput = int(((yImgShape - yKernShape + 2 * padding) / strides) + 1)\n",
    "    output = np.zeros((xOutput, yOutput))\n",
    "\n",
    "    # Apply Equal Padding to All Sides\n",
    "    if padding != 0:\n",
    "        imagePadded = np.zeros((image.shape[0] + padding*2, image.shape[1] + padding*2))\n",
    "        imagePadded[int(padding):int(-1 * padding), int(padding):int(-1 * padding)] = image\n",
    "    else:\n",
    "        imagePadded = image\n",
    "\n",
    "    # Iterate through image\n",
    "    for y in range(image.shape[1]):\n",
    "        # Exit Convolution\n",
    "        if y > image.shape[1] - yKernShape:\n",
    "            break\n",
    "        # Only Convolve if y has gone down by the specified Strides\n",
    "        if y % strides == 0:\n",
    "            for x in range(image.shape[0]):\n",
    "                # Go to next row once kernel is out of bounds\n",
    "                if x > image.shape[0] - xKernShape:\n",
    "                    break\n",
    "                try:\n",
    "                    # Only Convolve if x has moved by the specified Strides\n",
    "                    if x % strides == 0:\n",
    "                        output[x, y] = (kernel * imagePadded[x: x + xKernShape, y: y + yKernShape]).sum()\n",
    "                except:\n",
    "                    break\n",
    "\n",
    "    return output\n",
    "\n",
    "\n"
   ]
  },
  {
   "cell_type": "code",
   "execution_count": 3,
   "metadata": {},
   "outputs": [
    {
     "ename": "NameError",
     "evalue": "name 'cv2' is not defined",
     "output_type": "error",
     "traceback": [
      "\u001b[0;31m---------------------------------------------------------------------------\u001b[0m",
      "\u001b[0;31mNameError\u001b[0m                                 Traceback (most recent call last)",
      "Input \u001b[0;32mIn [3]\u001b[0m, in \u001b[0;36m<cell line: 2>\u001b[0;34m()\u001b[0m\n\u001b[1;32m      1\u001b[0m \u001b[38;5;66;03m# Grayscale Image\u001b[39;00m\n\u001b[0;32m----> 2\u001b[0m image \u001b[38;5;241m=\u001b[39m \u001b[43mprocessImage\u001b[49m\u001b[43m(\u001b[49m\u001b[38;5;124;43m'\u001b[39;49m\u001b[38;5;124;43m../baboon.png\u001b[39;49m\u001b[38;5;124;43m'\u001b[39;49m\u001b[43m)\u001b[49m\n\u001b[1;32m      4\u001b[0m \u001b[38;5;66;03m# Edge Detection Kernel\u001b[39;00m\n\u001b[1;32m      5\u001b[0m kernel_x \u001b[38;5;241m=\u001b[39m np\u001b[38;5;241m.\u001b[39marray([[\u001b[38;5;241m-\u001b[39m\u001b[38;5;241m1\u001b[39m, \u001b[38;5;241m0\u001b[39m, \u001b[38;5;241m1\u001b[39m], [\u001b[38;5;241m-\u001b[39m\u001b[38;5;241m2\u001b[39m, \u001b[38;5;241m0\u001b[39m, \u001b[38;5;241m2\u001b[39m], [\u001b[38;5;241m-\u001b[39m\u001b[38;5;241m1\u001b[39m, \u001b[38;5;241m0\u001b[39m, \u001b[38;5;241m1\u001b[39m]])\n",
      "Input \u001b[0;32mIn [2]\u001b[0m, in \u001b[0;36mprocessImage\u001b[0;34m(image)\u001b[0m\n\u001b[1;32m      2\u001b[0m \u001b[38;5;28;01mdef\u001b[39;00m \u001b[38;5;21mprocessImage\u001b[39m(image):\n\u001b[0;32m----> 3\u001b[0m     image \u001b[38;5;241m=\u001b[39m \u001b[43mcv2\u001b[49m\u001b[38;5;241m.\u001b[39mimread(image)\n\u001b[1;32m      4\u001b[0m     image \u001b[38;5;241m=\u001b[39m cv2\u001b[38;5;241m.\u001b[39mcvtColor(src\u001b[38;5;241m=\u001b[39mimage, code\u001b[38;5;241m=\u001b[39mcv2\u001b[38;5;241m.\u001b[39mCOLOR_BGR2GRAY)\n\u001b[1;32m      5\u001b[0m     \u001b[38;5;28;01mreturn\u001b[39;00m image\n",
      "\u001b[0;31mNameError\u001b[0m: name 'cv2' is not defined"
     ]
    }
   ],
   "source": [
    "# Grayscale Image\n",
    "image = processImage('../baboon.png')\n",
    "\n",
    "# Edge Detection Kernel\n",
    "kernel_x = np.array([[-1, 0, 1], [-2, 0, 2], [-1, 0, 1]])\n",
    "kernel_y = np.array([[-1, -2, -1], [0, 0, 0], [1, 2, 1]])\n",
    "\n",
    "# Convolve and Save Output\n",
    "output_x = convolve2D(image, kernel_x, padding=1)\n",
    "output_y = convolve2D(image, kernel_y, padding=1)\n",
    "cv2.imwrite('2DConvolvedBaboon_sobel_x.jpg', output_x)\n",
    "cv2.imwrite('2DConvolvedBaboon_sobel_y.jpg', output_y)"
   ]
  },
  {
   "cell_type": "code",
   "execution_count": 14,
   "metadata": {},
   "outputs": [
    {
     "data": {
      "text/plain": [
       "0"
      ]
     },
     "execution_count": 14,
     "metadata": {},
     "output_type": "execute_result"
    }
   ],
   "source": [
    "(np.array([[-1, 0, 1], [-2, 0, 2], [-1, 0, 1]]) * np.array([[-1, -2, -1], [0, 0, 0], [1, 2, 1]])).sum()"
   ]
  },
  {
   "cell_type": "code",
   "execution_count": 26,
   "metadata": {},
   "outputs": [],
   "source": [
    "def convolve2D_sobel(image, kernel_x, kernel_y, padding=0, strides=1):\n",
    "    # Cross Correlation\n",
    "    kernel_x = np.flipud(np.fliplr(kernel_x))\n",
    "    kernel_y = np.flipud(np.fliplr(kernel_y))\n",
    "\n",
    "    # Gather Shapes of Kernel + Image + Padding\n",
    "    xKernShape, yKernShape = kernel_x.shape\n",
    "    xImgShape, yImgShape = image.shape\n",
    "    \n",
    "\n",
    "    # Shape of Output Convolution\n",
    "    xOutput = int(((xImgShape - xKernShape + 2 * padding) / strides) + 1)\n",
    "    yOutput = int(((yImgShape - yKernShape + 2 * padding) / strides) + 1)\n",
    "    output = np.zeros((xOutput, yOutput))\n",
    "\n",
    "    # Apply Equal Padding to All Sides\n",
    "    if padding != 0:\n",
    "        imagePadded = np.zeros((xImgShape + padding*2, yImgShape + padding*2))\n",
    "        imagePadded[int(padding):int(-1 * padding), int(padding):int(-1 * padding)] = image\n",
    "    else:\n",
    "        imagePadded = image\n",
    "\n",
    "    # Iterate through image\n",
    "    for i in range(xImgShape):\n",
    "        # Exit Convolution\n",
    "        if i > xImgShape - xKernShape:\n",
    "            break\n",
    "        # Only Convolve if y has gone down by the specified Strides\n",
    "        if i % strides == 0:\n",
    "            for j in range(yImgShape):\n",
    "                # Go to next row once kernel is out of bounds\n",
    "                if j > yImgShape - yKernShape:\n",
    "                    break\n",
    "                try:\n",
    "                    # Only Convolve if x has moved by the specified Strides\n",
    "                    if j % strides == 0:\n",
    "                        Gx = (kernel_x * imagePadded[i: i + xKernShape, j: j + yKernShape]).sum()\n",
    "                        Gy = (kernel_y * imagePadded[i: i + xKernShape, j: j + yKernShape]).sum()\n",
    "                        Gx_square = np.square(Gx)\n",
    "                        Gy_square = np.square(Gy)\n",
    "                        G_sum_square = np.array([Gx_square, Gy_square]).sum()\n",
    "                        G_root_sum_square = np.sqrt(G_sum_square)\n",
    "                        output[i, j] = G_root_sum_square\n",
    "                except:\n",
    "                    break\n",
    "\n",
    "    return output"
   ]
  },
  {
   "cell_type": "code",
   "execution_count": 16,
   "metadata": {},
   "outputs": [],
   "source": [
    "# Grayscale Image\n",
    "image = processImage('../Bikesgray.jpg')\n"
   ]
  },
  {
   "cell_type": "code",
   "execution_count": 28,
   "metadata": {},
   "outputs": [
    {
     "data": {
      "text/plain": [
       "True"
      ]
     },
     "execution_count": 28,
     "metadata": {},
     "output_type": "execute_result"
    }
   ],
   "source": [
    "\n",
    "# Edge Detection Kernel (sopel operator)\n",
    "kernel_x = np.array([[-1, 0, 1], [-2, 0, 2], [-1, 0, 1]])\n",
    "kernel_y = np.array([[-1, -2, -1], [0, 0, 0], [1, 2, 1]])\n",
    "\n",
    "# Convolve and Save Output\n",
    "output = convolve2D_sobel(image, kernel_x, kernel_y, padding=1)\n",
    "cv2.imwrite('2DConvolved_sobel_bikesgray.jpg', output)\n"
   ]
  },
  {
   "cell_type": "code",
   "execution_count": 27,
   "metadata": {},
   "outputs": [
    {
     "data": {
      "text/plain": [
       "True"
      ]
     },
     "execution_count": 27,
     "metadata": {},
     "output_type": "execute_result"
    }
   ],
   "source": [
    "# Edge Detection Kernel (prewitt operator)\n",
    "kernel_x = np.array([[1, 0, -1], [1, 0, -1], [1, 0, -1]])\n",
    "kernel_y = np.array([[1, 1, 1], [0, 0, 0], [-1, -1, -1]])\n",
    "\n",
    "# Convolve and Save Output\n",
    "output = convolve2D_sobel(image, kernel_x, kernel_y, padding=1)\n",
    "cv2.imwrite('2DConvolved_prewitt_Bikesgray.jpg', output)"
   ]
  },
  {
   "cell_type": "code",
   "execution_count": 29,
   "metadata": {},
   "outputs": [
    {
     "data": {
      "text/plain": [
       "True"
      ]
     },
     "execution_count": 29,
     "metadata": {},
     "output_type": "execute_result"
    }
   ],
   "source": [
    "# Edge Detection Kernel (ropert operator)\n",
    "kernel_x = np.array([[1, 0], [0, -1]])\n",
    "kernel_y = np.array([[0, 1], [-1, 0]])\n",
    "\n",
    "# Convolve and Save Output\n",
    "output = convolve2D_sobel(image, kernel_x, kernel_y, padding=1)\n",
    "cv2.imwrite('2DConvolved_ropert_Bikesgray.jpg', output)"
   ]
  }
 ],
 "metadata": {
  "interpreter": {
   "hash": "304db75e9ca8a0a1d93cf838a2ff5897596f4187479e0cbadfeb76277b9159f8"
  },
  "kernelspec": {
   "display_name": "Python 3.8.10 ('venv': venv)",
   "language": "python",
   "name": "python3"
  },
  "language_info": {
   "codemirror_mode": {
    "name": "ipython",
    "version": 3
   },
   "file_extension": ".py",
   "mimetype": "text/x-python",
   "name": "python",
   "nbconvert_exporter": "python",
   "pygments_lexer": "ipython3",
   "version": "3.8.10"
  },
  "orig_nbformat": 4
 },
 "nbformat": 4,
 "nbformat_minor": 2
}
